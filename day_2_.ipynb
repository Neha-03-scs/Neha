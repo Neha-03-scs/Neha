{
  "nbformat": 4,
  "nbformat_minor": 0,
  "metadata": {
    "colab": {
      "provenance": [],
      "authorship_tag": "ABX9TyNlninTe2YUyrkVy4eV2NoJ",
      "include_colab_link": true
    },
    "kernelspec": {
      "name": "python3",
      "display_name": "Python 3"
    },
    "language_info": {
      "name": "python"
    }
  },
  "cells": [
    {
      "cell_type": "markdown",
      "metadata": {
        "id": "view-in-github",
        "colab_type": "text"
      },
      "source": [
        "<a href=\"https://colab.research.google.com/github/Neha-03-scs/Neha/blob/main/day_2_.ipynb\" target=\"_parent\"><img src=\"https://colab.research.google.com/assets/colab-badge.svg\" alt=\"Open In Colab\"/></a>"
      ]
    },
    {
      "cell_type": "code",
      "execution_count": 4,
      "metadata": {
        "colab": {
          "base_uri": "https://localhost:8080/"
        },
        "id": "Da48nqFRy6tD",
        "outputId": "08023627-e168-44c9-c1cb-4b4abdbb486c"
      },
      "outputs": [
        {
          "output_type": "stream",
          "name": "stdout",
          "text": [
            "5\n",
            "16\n",
            "Invalid Input\n",
            "Invalid Input\n"
          ]
        }
      ],
      "source": [
        "def countChocolates(money, cost):\n",
        "    try:\n",
        "        money = float(money.split('$')[0].strip())\n",
        "        cost = float(cost.split('$')[0].strip())\n",
        "        if money < 0 or cost <= 0:\n",
        "            return \"Invalid Input\"\n",
        "        chocolates = int(money // cost)\n",
        "        wrappers = chocolates\n",
        "        while wrappers >= 3:\n",
        "            additional_chocolates = wrappers // 3\n",
        "            chocolates += additional_chocolates\n",
        "            wrappers = additional_chocolates + (wrappers % 3)\n",
        "        return chocolates\n",
        "    except ValueError:\n",
        "        return \"Invalid Input\"\n",
        "\n",
        "# Example usage\n",
        "print(countChocolates(\"4$\", \"1$\"))\n",
        "print(countChocolates(\"55 $\", \"5$\"))\n",
        "print(countChocolates(\"I have 68$\", \"2$\"))\n",
        "print(countChocolates(\"I got -68$ from my mom \", \"2$\"))\n",
        "\n"
      ]
    }
  ]
}