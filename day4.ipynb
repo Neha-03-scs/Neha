{
  "nbformat": 4,
  "nbformat_minor": 0,
  "metadata": {
    "colab": {
      "provenance": [],
      "authorship_tag": "ABX9TyMceglKdrOYUBqF66Wzo9tx",
      "include_colab_link": true
    },
    "kernelspec": {
      "name": "python3",
      "display_name": "Python 3"
    },
    "language_info": {
      "name": "python"
    }
  },
  "cells": [
    {
      "cell_type": "markdown",
      "metadata": {
        "id": "view-in-github",
        "colab_type": "text"
      },
      "source": [
        "<a href=\"https://colab.research.google.com/github/Neha-03-scs/Neha/blob/main/day4.ipynb\" target=\"_parent\"><img src=\"https://colab.research.google.com/assets/colab-badge.svg\" alt=\"Open In Colab\"/></a>"
      ]
    },
    {
      "cell_type": "code",
      "execution_count": 13,
      "metadata": {
        "id": "accD6HUy6Zo-"
      },
      "outputs": [],
      "source": [
        "def isSimilar(obj1, obj2):\n",
        "    if type(obj1) != type(obj2):\n",
        "        return False\n",
        "\n",
        "    if isinstance(obj1, list):\n",
        "        if len(obj1) != len(obj2):\n",
        "            return False\n",
        "        for i in range(len(obj1)):\n",
        "            if not isSimilar(obj1[i], obj2[i]):\n",
        "                return False\n",
        "        return True\n",
        "\n",
        "    if isinstance(obj1, dict):\n",
        "        if len(obj1) != len(obj2):\n",
        "            return False\n",
        "        for key in obj1:\n",
        "            if key not in obj2 or not isSimilar(obj1[key], obj2[key]):\n",
        "                return False\n",
        "        return True\n",
        "\n",
        "    return obj1 == obj2\n",
        "\n",
        "\n",
        "\n"
      ]
    },
    {
      "cell_type": "code",
      "source": [
        "\n",
        "obj1 = [\"cars\", \"trains\", [\"roads\", [\"railways\"]]]\n",
        "obj2 = [\"cars\", \"trains\", [\"roads\", [\"railways\"]]]\n",
        "print(isSimilar(obj1, obj2))"
      ],
      "metadata": {
        "colab": {
          "base_uri": "https://localhost:8080/"
        },
        "id": "_01w1nrZ6jM8",
        "outputId": "53f52a95-c7d9-4b9e-9f7b-e89ecd711e69"
      },
      "execution_count": 14,
      "outputs": [
        {
          "output_type": "stream",
          "name": "stdout",
          "text": [
            "True\n"
          ]
        }
      ]
    },
    {
      "cell_type": "code",
      "source": [
        "obj1 = {\"pairs\": [[3, 5], [1, 7], [2, 6], [0, 8]]}\n",
        "obj2 = {\"pairs\": [[3, 5], [1, 1], [2, 6], [0, 8]]}\n",
        "print(isSimilar(obj1, obj2))"
      ],
      "metadata": {
        "colab": {
          "base_uri": "https://localhost:8080/"
        },
        "id": "jRIK2wGH6kRw",
        "outputId": "c05f66b0-eaa1-4e62-c464-fa006272a69d"
      },
      "execution_count": 15,
      "outputs": [
        {
          "output_type": "stream",
          "name": "stdout",
          "text": [
            "False\n"
          ]
        }
      ]
    },
    {
      "cell_type": "code",
      "source": [
        "obj1 = {\"Sam\": 4, \"Elliot\": 4, \"equality\": True}\n",
        "obj2 = {\"Sam\": 4, \"Elliot\": 5, \"equality\": False}\n",
        "print(isSimilar(obj1, obj2))\n",
        "\n"
      ],
      "metadata": {
        "colab": {
          "base_uri": "https://localhost:8080/"
        },
        "id": "XYwfyQ8p9F3W",
        "outputId": "e81aa74c-85c3-424e-9916-74a0cd5dbddd"
      },
      "execution_count": 16,
      "outputs": [
        {
          "output_type": "stream",
          "name": "stdout",
          "text": [
            "False\n"
          ]
        }
      ]
    },
    {
      "cell_type": "code",
      "source": [
        "obj1 = [{\"D\": [0, 3]}, {\"X\": [1, 3]}, {\"D\": [3, 7]}]\n",
        "obj2 = [{\"D\": [0, 3]}, {\"X\": [1, 3]}, {\"D\": [3, 7]}]\n",
        "print(isSimilar(obj1, obj2))"
      ],
      "metadata": {
        "colab": {
          "base_uri": "https://localhost:8080/"
        },
        "id": "8ubeUivV9I6R",
        "outputId": "32236f52-df54-4d19-a5c6-9f95227d0e24"
      },
      "execution_count": 17,
      "outputs": [
        {
          "output_type": "stream",
          "name": "stdout",
          "text": [
            "True\n"
          ]
        }
      ]
    }
  ]
}