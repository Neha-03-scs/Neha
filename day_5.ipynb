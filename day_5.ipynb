{
  "nbformat": 4,
  "nbformat_minor": 0,
  "metadata": {
    "colab": {
      "provenance": [],
      "authorship_tag": "ABX9TyOVviz5f7IIrhVHi+Nfr3SV",
      "include_colab_link": true
    },
    "kernelspec": {
      "name": "python3",
      "display_name": "Python 3"
    },
    "language_info": {
      "name": "python"
    }
  },
  "cells": [
    {
      "cell_type": "markdown",
      "metadata": {
        "id": "view-in-github",
        "colab_type": "text"
      },
      "source": [
        "<a href=\"https://colab.research.google.com/github/Neha-03-scs/Neha/blob/main/day_5.ipynb\" target=\"_parent\"><img src=\"https://colab.research.google.com/assets/colab-badge.svg\" alt=\"Open In Colab\"/></a>"
      ]
    },
    {
      "cell_type": "code",
      "execution_count": 1,
      "metadata": {
        "id": "b-pw8-hHAxvY"
      },
      "outputs": [],
      "source": [
        "def spotlightMap(grid):\n",
        "    rows = len(grid)\n",
        "    cols = len(grid[0])\n",
        "    result = [[0] * cols for _ in range(rows)]\n",
        "\n",
        "    for i in range(rows):\n",
        "        for j in range(cols):\n",
        "            result[i][j] = getSpotlightSum(grid, i, j)\n",
        "\n",
        "    return result\n",
        "\n",
        "def getSpotlightSum(grid, row, col):\n",
        "    rows = len(grid)\n",
        "    cols = len(grid[0])\n",
        "    spotlight_sum = 0\n",
        "\n",
        "    for i in range(max(0, row - 1), min(rows, row + 2)):\n",
        "        for j in range(max(0, col - 1), min(cols, col + 2)):\n",
        "            spotlight_sum += grid[i][j]\n",
        "\n",
        "    return spotlight_sum\n"
      ]
    },
    {
      "cell_type": "code",
      "source": [
        "\n",
        "grid = [\n",
        "    [1, 2, 3],\n",
        "    [4, 5, 6],\n",
        "    [7, 8, 9]\n",
        "]\n",
        "result = spotlightMap(grid)\n",
        "for row in result:\n",
        "    print(row)\n"
      ],
      "metadata": {
        "colab": {
          "base_uri": "https://localhost:8080/"
        },
        "id": "xx1KMpO3A3Jy",
        "outputId": "5280b52a-7250-4e72-8458-1073250fe47c"
      },
      "execution_count": 2,
      "outputs": [
        {
          "output_type": "stream",
          "name": "stdout",
          "text": [
            "[12, 21, 16]\n",
            "[27, 45, 33]\n",
            "[24, 39, 28]\n"
          ]
        }
      ]
    },
    {
      "cell_type": "code",
      "source": [
        "\n",
        "grid = [\n",
        "    [2, 6, 1, 3, 7],\n",
        "    [8, 5, 9, 4, 0]\n",
        "]\n",
        "result = spotlightMap(grid)\n",
        "for row in result:\n",
        "    print(row)\n"
      ],
      "metadata": {
        "colab": {
          "base_uri": "https://localhost:8080/"
        },
        "id": "aLTLABehA67D",
        "outputId": "6f20f75e-950f-432b-8782-85f11d1d2cda"
      },
      "execution_count": 3,
      "outputs": [
        {
          "output_type": "stream",
          "name": "stdout",
          "text": [
            "[21, 31, 28, 24, 14]\n",
            "[21, 31, 28, 24, 14]\n"
          ]
        }
      ]
    },
    {
      "cell_type": "code",
      "source": [
        "\n",
        "grid = [[3]]\n",
        "result = spotlightMap(grid)\n",
        "for row in result:\n",
        "    print(row)\n"
      ],
      "metadata": {
        "colab": {
          "base_uri": "https://localhost:8080/"
        },
        "id": "x6qu3Zp6A_OR",
        "outputId": "3ee07e14-fdf9-42a9-8e67-68e66c085e50"
      },
      "execution_count": 4,
      "outputs": [
        {
          "output_type": "stream",
          "name": "stdout",
          "text": [
            "[3]\n"
          ]
        }
      ]
    }
  ]
}