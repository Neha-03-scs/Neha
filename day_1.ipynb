{
  "nbformat": 4,
  "nbformat_minor": 0,
  "metadata": {
    "colab": {
      "provenance": [],
      "authorship_tag": "ABX9TyM1pOxaEO8ZxQLHv6nTNHjU",
      "include_colab_link": true
    },
    "kernelspec": {
      "name": "python3",
      "display_name": "Python 3"
    },
    "language_info": {
      "name": "python"
    }
  },
  "cells": [
    {
      "cell_type": "markdown",
      "metadata": {
        "id": "view-in-github",
        "colab_type": "text"
      },
      "source": [
        "<a href=\"https://colab.research.google.com/github/Neha-03-scs/Neha/blob/main/day_1.ipynb\" target=\"_parent\"><img src=\"https://colab.research.google.com/assets/colab-badge.svg\" alt=\"Open In Colab\"/></a>"
      ]
    },
    {
      "cell_type": "code",
      "execution_count": 10,
      "metadata": {
        "id": "b-18WADnvt_t"
      },
      "outputs": [],
      "source": [
        "def numbersThenCharacters(arr):\n",
        "    numbers = []\n",
        "    letters = []\n",
        "\n",
        "    for sublist in arr:\n",
        "        for element in sublist:\n",
        "            if isinstance(element, (int, float)):\n",
        "                numbers.append(element)\n",
        "            else:\n",
        "                letters.append(element)\n",
        "\n",
        "    numbers.sort()\n",
        "    letters.sort()\n",
        "\n",
        "    result = []\n",
        "    for sublist in arr:\n",
        "        sorted_sublist = []\n",
        "        for element in sublist:\n",
        "            if isinstance(element, (int, float)):\n",
        "                sorted_sublist.append(numbers.pop(0))\n",
        "            else:\n",
        "                sorted_sublist.append(letters.pop(0))\n",
        "        result.append(sorted_sublist)\n",
        "\n",
        "    return result\n"
      ]
    },
    {
      "cell_type": "code",
      "source": [
        "\n",
        "arr1 = [\n",
        "    [11, 12, 24, 23, \"a\", \"b\"],\n",
        "    [56, \"c\", 45],\n",
        "    [67, \"d\"],\n",
        "    [\"f\", \"e\", 78]\n",
        "]\n",
        "\n",
        "print(numbersThenCharacters(arr1))\n",
        "\n",
        "\n",
        "\n"
      ],
      "metadata": {
        "colab": {
          "base_uri": "https://localhost:8080/"
        },
        "id": "H-a_8JkSvzu8",
        "outputId": "a4644c4e-0db3-4bd4-845b-55d992fda8c4"
      },
      "execution_count": 11,
      "outputs": [
        {
          "output_type": "stream",
          "name": "stdout",
          "text": [
            "[[11, 12, 23, 24, 'a', 'b'], [45, 'c', 56], [67, 'd'], ['e', 'f', 78]]\n"
          ]
        }
      ]
    },
    {
      "cell_type": "code",
      "source": [
        "\n",
        "arr2 = [\n",
        "    [11, 26, 45.4, \"f\", \"a\", \"b\"],\n",
        "    [0],\n",
        "    [1.5, \"d\", \"X\", 35, \"s\"],\n",
        "    [\"f\", \"e\", 58],\n",
        "    [\"p\", \"Y\", \"Z\"],\n",
        "    [98, 72]\n",
        "]\n",
        "\n",
        "print(numbersThenCharacters(arr2))\n"
      ],
      "metadata": {
        "colab": {
          "base_uri": "https://localhost:8080/"
        },
        "id": "r458hc2yyIj8",
        "outputId": "e268b992-8128-4356-ca9e-ec7804c32051"
      },
      "execution_count": 12,
      "outputs": [
        {
          "output_type": "stream",
          "name": "stdout",
          "text": [
            "[[0, 1.5, 11, 'X', 'Y', 'Z'], [26], [35, 'a', 'b', 45.4, 'd'], ['e', 'f', 58], ['f', 'p', 's'], [72, 98]]\n"
          ]
        }
      ]
    }
  ]
}